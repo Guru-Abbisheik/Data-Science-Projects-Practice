{
  "nbformat": 4,
  "nbformat_minor": 0,
  "metadata": {
    "colab": {
      "provenance": [],
      "include_colab_link": true
    },
    "kernelspec": {
      "name": "python3",
      "display_name": "Python 3"
    },
    "language_info": {
      "name": "python"
    }
  },
  "cells": [
    {
      "cell_type": "markdown",
      "metadata": {
        "id": "view-in-github",
        "colab_type": "text"
      },
      "source": [
        "<a href=\"https://colab.research.google.com/github/guruabbisheiks/Data-Science-Projects-Practice/blob/master/Scrape_Reviews.ipynb\" target=\"_parent\"><img src=\"https://colab.research.google.com/assets/colab-badge.svg\" alt=\"Open In Colab\"/></a>"
      ]
    },
    {
      "cell_type": "code",
      "execution_count": 1,
      "metadata": {
        "colab": {
          "base_uri": "https://localhost:8080/"
        },
        "id": "--lMyfc-Zhs-",
        "outputId": "621af776-0ed8-4742-9741-f246465885ff"
      },
      "outputs": [
        {
          "output_type": "stream",
          "name": "stdout",
          "text": [
            "Mounted at /content/drive\n"
          ]
        }
      ],
      "source": [
        "import requests\n",
        "from bs4 import BeautifulSoup\n",
        "import pandas as pd\n",
        "from google.colab import drive\n",
        "drive.mount('/content/drive')"
      ]
    },
    {
      "cell_type": "code",
      "source": [
        "# Initialize an empty DataFrame to store the reviews\n",
        "reviews_df = pd.DataFrame(columns=['Review'])\n",
        "\n",
        "# Define the base URL and the number of pages to scrape\n",
        "base_url = 'https://www.trustpilot.com/review/www.dominos.com?page='\n",
        "num_pages = 10  # Change this to the number of pages you want to scrape\n"
      ],
      "metadata": {
        "id": "2yaO1TgQdWQG"
      },
      "execution_count": 2,
      "outputs": []
    },
    {
      "cell_type": "code",
      "source": [
        "\n",
        "# Loop through each page\n",
        "for page in range(1, num_pages + 1):\n",
        "    # Construct the URL for the current page\n",
        "    url = base_url + str(page)\n",
        "\n",
        "    # Send an HTTP GET request to the URL\n",
        "    response = requests.get(url)\n",
        "\n",
        "    # Check if the request was successful\n",
        "    if response.status_code == 200:\n",
        "        # Parse the HTML content of the page using BeautifulSoup\n",
        "        soup = BeautifulSoup(response.text, 'html.parser')\n",
        "\n",
        "        # Find and extract the reviews based on the HTML structure\n",
        "        reviews = soup.find_all('div', class_='styles_reviewCardInner__EwDq2')  # Update the class name accordingly\n",
        "\n",
        "        # Extract and append the review text to the DataFrame\n",
        "        for review in reviews:\n",
        "            review_text = review.find('p', class_='typography_body-l__KUYFJ typography_appearance-default__AAY17 typography_color-black__5LYEn')  # Update the class name accordingly\n",
        "            reviews_df = reviews_df.append({'Review': review_text}, ignore_index=True)\n",
        "\n",
        "    else:\n",
        "        print(f\"Failed to retrieve page {page}. Status code: {response.status_code}\")\n",
        "\n",
        "# Print the first few rows of the DataFrame\n",
        "print(reviews_df.head())"
      ],
      "metadata": {
        "id": "p57JiciOdgTX"
      },
      "execution_count": null,
      "outputs": []
    },
    {
      "cell_type": "code",
      "source": [
        "print(reviews_df)"
      ],
      "metadata": {
        "colab": {
          "base_uri": "https://localhost:8080/"
        },
        "id": "e0YDaOAu1N5M",
        "outputId": "f8b90880-ede8-42c4-d817-5ee8a01cb5e3"
      },
      "execution_count": 4,
      "outputs": [
        {
          "output_type": "stream",
          "name": "stdout",
          "text": [
            "                                                Review\n",
            "0    [Not my best experience in eating out for sure...\n",
            "1    [Our local Domino's Pizza store is great. On t...\n",
            "2    [We ordered several items on 8/31/23, (order #...\n",
            "3    [Pizza was fine, staff were fine , but they re...\n",
            "4    [First time I order online said 30-45 mins , [...\n",
            "..                                                 ...\n",
            "195                   [מצויינים, [], [], וואאלה אהבתי]\n",
            "196  [Domino’s Pizza., [], [], Five months ago on 9...\n",
            "197                                               None\n",
            "198  [This review has nothing to do with my local D...\n",
            "199                                               None\n",
            "\n",
            "[200 rows x 1 columns]\n"
          ]
        }
      ]
    },
    {
      "cell_type": "code",
      "source": [
        "reviews_df.to_csv('/content/drive/MyDrive/Colab Notebooks/dominos_reviews.csv', index=False)"
      ],
      "metadata": {
        "id": "-Q8O6Sry21qF"
      },
      "execution_count": 6,
      "outputs": []
    },
    {
      "cell_type": "code",
      "source": [],
      "metadata": {
        "id": "VSvKwkAu3Vio"
      },
      "execution_count": null,
      "outputs": []
    }
  ]
}